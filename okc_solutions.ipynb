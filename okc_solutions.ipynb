{
 "cells": [
  {
   "cell_type": "code",
   "execution_count": 1,
   "id": "bfd1d3b5",
   "metadata": {},
   "outputs": [],
   "source": [
    "import pandas as pd\n",
    "import matplotlib.pyplot as plt\n",
    "import numpy as np"
   ]
  },
  {
   "cell_type": "code",
   "execution_count": 2,
   "id": "f8ac9bd5",
   "metadata": {},
   "outputs": [],
   "source": [
    "shots_data = pd.read_csv(\"shots_data.csv\")"
   ]
  },
  {
   "cell_type": "code",
   "execution_count": 3,
   "id": "ad12ea10",
   "metadata": {},
   "outputs": [
    {
     "name": "stdout",
     "output_type": "stream",
     "text": [
      "504 total shots\n"
     ]
    },
    {
     "data": {
      "text/html": [
       "<div>\n",
       "<style scoped>\n",
       "    .dataframe tbody tr th:only-of-type {\n",
       "        vertical-align: middle;\n",
       "    }\n",
       "\n",
       "    .dataframe tbody tr th {\n",
       "        vertical-align: top;\n",
       "    }\n",
       "\n",
       "    .dataframe thead th {\n",
       "        text-align: right;\n",
       "    }\n",
       "</style>\n",
       "<table border=\"1\" class=\"dataframe\">\n",
       "  <thead>\n",
       "    <tr style=\"text-align: right;\">\n",
       "      <th></th>\n",
       "      <th>team</th>\n",
       "      <th>x</th>\n",
       "      <th>y</th>\n",
       "      <th>fgmade</th>\n",
       "    </tr>\n",
       "  </thead>\n",
       "  <tbody>\n",
       "    <tr>\n",
       "      <th>0</th>\n",
       "      <td>Team A</td>\n",
       "      <td>-5.0</td>\n",
       "      <td>26.4</td>\n",
       "      <td>0</td>\n",
       "    </tr>\n",
       "    <tr>\n",
       "      <th>1</th>\n",
       "      <td>Team A</td>\n",
       "      <td>-0.8</td>\n",
       "      <td>1.2</td>\n",
       "      <td>1</td>\n",
       "    </tr>\n",
       "    <tr>\n",
       "      <th>2</th>\n",
       "      <td>Team A</td>\n",
       "      <td>-13.9</td>\n",
       "      <td>9.5</td>\n",
       "      <td>1</td>\n",
       "    </tr>\n",
       "    <tr>\n",
       "      <th>3</th>\n",
       "      <td>Team A</td>\n",
       "      <td>-5.4</td>\n",
       "      <td>26.2</td>\n",
       "      <td>0</td>\n",
       "    </tr>\n",
       "    <tr>\n",
       "      <th>4</th>\n",
       "      <td>Team A</td>\n",
       "      <td>-4.9</td>\n",
       "      <td>14.5</td>\n",
       "      <td>1</td>\n",
       "    </tr>\n",
       "    <tr>\n",
       "      <th>...</th>\n",
       "      <td>...</td>\n",
       "      <td>...</td>\n",
       "      <td>...</td>\n",
       "      <td>...</td>\n",
       "    </tr>\n",
       "    <tr>\n",
       "      <th>499</th>\n",
       "      <td>Team B</td>\n",
       "      <td>-0.5</td>\n",
       "      <td>2.2</td>\n",
       "      <td>0</td>\n",
       "    </tr>\n",
       "    <tr>\n",
       "      <th>500</th>\n",
       "      <td>Team B</td>\n",
       "      <td>3.5</td>\n",
       "      <td>7.6</td>\n",
       "      <td>0</td>\n",
       "    </tr>\n",
       "    <tr>\n",
       "      <th>501</th>\n",
       "      <td>Team B</td>\n",
       "      <td>0.2</td>\n",
       "      <td>8.8</td>\n",
       "      <td>0</td>\n",
       "    </tr>\n",
       "    <tr>\n",
       "      <th>502</th>\n",
       "      <td>Team B</td>\n",
       "      <td>-0.6</td>\n",
       "      <td>0.7</td>\n",
       "      <td>1</td>\n",
       "    </tr>\n",
       "    <tr>\n",
       "      <th>503</th>\n",
       "      <td>Team B</td>\n",
       "      <td>-0.3</td>\n",
       "      <td>3.6</td>\n",
       "      <td>0</td>\n",
       "    </tr>\n",
       "  </tbody>\n",
       "</table>\n",
       "<p>504 rows × 4 columns</p>\n",
       "</div>"
      ],
      "text/plain": [
       "       team     x     y  fgmade\n",
       "0    Team A  -5.0  26.4       0\n",
       "1    Team A  -0.8   1.2       1\n",
       "2    Team A -13.9   9.5       1\n",
       "3    Team A  -5.4  26.2       0\n",
       "4    Team A  -4.9  14.5       1\n",
       "..      ...   ...   ...     ...\n",
       "499  Team B  -0.5   2.2       0\n",
       "500  Team B   3.5   7.6       0\n",
       "501  Team B   0.2   8.8       0\n",
       "502  Team B  -0.6   0.7       1\n",
       "503  Team B  -0.3   3.6       0\n",
       "\n",
       "[504 rows x 4 columns]"
      ]
     },
     "execution_count": 3,
     "metadata": {},
     "output_type": "execute_result"
    }
   ],
   "source": [
    "print(f\"{len(shots_data)} total shots\")\n",
    "shots_data"
   ]
  },
  {
   "cell_type": "code",
   "execution_count": 4,
   "id": "0dbebaf0",
   "metadata": {},
   "outputs": [],
   "source": [
    "def getNC3ZoneSeries(team):\n",
    "    return shots_data[\n",
    "        (shots_data['y'] > 7.8) & \n",
    "        (np.array([np.sqrt(a**2+b**2) for a, b in zip(shots_data['x'], \n",
    "                                                     shots_data['y'])]) > 23.75) &\n",
    "        (shots_data['team'] == team)\n",
    "    ]\n",
    "\n",
    "def getC3ZoneSeries(team):\n",
    "    return shots_data[\n",
    "        (shots_data['y'] <= 7.8) & \n",
    "        (np.abs(shots_data['x']) > 22) &\n",
    "        (shots_data['team'] == team)\n",
    "    ]\n",
    "\n",
    "def get2PTZoneSeries(team):\n",
    "    return shots_data[\n",
    "        (np.abs(shots_data['x']) <= 22) & \n",
    "        (np.sqrt([a**2+b**2 for a, b in zip(shots_data['x'], \n",
    "                                                     shots_data['y'])]) <= 23.75) &\n",
    "        (shots_data['team'] == team)\n",
    "]\n",
    "def getEFGPCT(zoneSeries, team, zone):\n",
    "    FGM = len(zoneSeries[zoneSeries['fgmade']==1])\n",
    "    threePM = FGM\n",
    "    FGA = len(zoneSeries)\n",
    "    if zone=='2PT':\n",
    "        threePM = 0\n",
    "    return (FGM + (0.5 * threePM)) / FGA"
   ]
  },
  {
   "cell_type": "code",
   "execution_count": 5,
   "id": "2501256e",
   "metadata": {},
   "outputs": [
    {
     "name": "stdout",
     "output_type": "stream",
     "text": [
      "0.24285714285714285 0.06428571428571428 0.6928571428571428\n",
      "0.2767857142857143 0.049107142857142856 0.6741071428571429\n"
     ]
    }
   ],
   "source": [
    "# Shot Distribution Team A\n",
    "print(\n",
    "    len(getNC3ZoneSeries(\"Team A\")) / len(shots_data[shots_data['team']==\"Team A\"]),\n",
    "    len(getC3ZoneSeries(\"Team A\")) / len(shots_data[shots_data['team']==\"Team A\"]),\n",
    "    len(get2PTZoneSeries(\"Team A\")) / len(shots_data[shots_data['team']==\"Team A\"]),\n",
    ")\n",
    "\n",
    "# Shot Distribution Team B\n",
    "print(\n",
    "    len(getNC3ZoneSeries(\"Team B\")) / len(shots_data[shots_data['team']==\"Team B\"]),\n",
    "    len(getC3ZoneSeries(\"Team B\")) / len(shots_data[shots_data['team']==\"Team B\"]),\n",
    "    len(get2PTZoneSeries(\"Team B\")) / len(shots_data[shots_data['team']==\"Team B\"]),\n",
    ")"
   ]
  },
  {
   "cell_type": "code",
   "execution_count": 6,
   "id": "15ae2160",
   "metadata": {},
   "outputs": [
    {
     "name": "stdout",
     "output_type": "stream",
     "text": [
      "0.4632352941176471 0.75 0.4896907216494845\n",
      "0.5080645161290323 0.5454545454545454 0.44370860927152317\n"
     ]
    }
   ],
   "source": [
    "# EFG% Team A by Zone\n",
    "print(\n",
    "    getEFGPCT(getNC3ZoneSeries(\"Team A\"), \"Team A\", \"NC3\"),\n",
    "    getEFGPCT(getC3ZoneSeries(\"Team A\"), \"Team A\", \"C3\"),\n",
    "    getEFGPCT(get2PTZoneSeries(\"Team A\"), \"Team A\", \"2PT\"),\n",
    ")\n",
    "\n",
    "# EFG% Team B by Zone\n",
    "print(\n",
    "    getEFGPCT(getNC3ZoneSeries(\"Team B\"), \"Team B\", \"NC3\"),\n",
    "    getEFGPCT(getC3ZoneSeries(\"Team B\"), \"Team B\", \"C3\"),\n",
    "    getEFGPCT(get2PTZoneSeries(\"Team B\"), \"Team B\", \"2PT\"),\n",
    ")"
   ]
  }
 ],
 "metadata": {
  "kernelspec": {
   "display_name": "Python 3 (ipykernel)",
   "language": "python",
   "name": "python3"
  },
  "language_info": {
   "codemirror_mode": {
    "name": "ipython",
    "version": 3
   },
   "file_extension": ".py",
   "mimetype": "text/x-python",
   "name": "python",
   "nbconvert_exporter": "python",
   "pygments_lexer": "ipython3",
   "version": "3.9.7"
  }
 },
 "nbformat": 4,
 "nbformat_minor": 5
}
